{
  "nbformat": 4,
  "nbformat_minor": 0,
  "metadata": {
    "colab": {
      "provenance": []
    },
    "kernelspec": {
      "name": "python3",
      "display_name": "Python 3"
    },
    "language_info": {
      "name": "python"
    }
  },
  "cells": [
    {
      "cell_type": "code",
      "execution_count": 3,
      "metadata": {
        "id": "ozsJzA8EBux2"
      },
      "outputs": [],
      "source": [
        "import numpy as np\n",
        "\n",
        "class NaiveBayesClassifier:\n",
        "    def _init_(self):\n",
        "        self.prior_probs = None\n",
        "        self.cond_probs = None\n",
        "        self.classes = None\n",
        "\n",
        "    def fit(self, X, y):\n",
        "        self.classes = np.unique(y)\n",
        "        self.prior_probs = np.zeros(len(self.classes))\n",
        "        self.cond_probs = []\n",
        "\n",
        "        for i, c in enumerate(self.classes):\n",
        "            X_c = X[y == c]\n",
        "            self.prior_probs[i] = X_c.shape[0] / X.shape[0]\n",
        "            self.cond_probs.append([])\n",
        "            for j in range(X.shape[1]):\n",
        "                vals, counts = np.unique(X_c[:, j], return_counts=True)\n",
        "                prob = {}\n",
        "                for k, v in zip(vals, counts):\n",
        "                    prob[k] = v / X_c.shape[0]\n",
        "                self.cond_probs[i].append(prob)\n",
        "\n",
        "    def predict(self, X):\n",
        "        y_pred = []\n",
        "        for x in X:\n",
        "            probs = []\n",
        "            for i, c in enumerate(self.classes):\n",
        "                prob = self.prior_probs[i]\n",
        "                for j in range(X.shape[1]):\n",
        "                    if x[j] in self.cond_probs[i][j]:\n",
        "                        prob *= self.cond_probs[i][j][x[j]]\n",
        "                    else:\n",
        "                        prob *= 0\n",
        "                probs.append(prob)\n",
        "            y_pred.append(self.classes[np.argmax(probs)])\n",
        "        return y_pred\n",
        "\n",
        "    def score(self, X, y):\n",
        "        y_pred = self.predict(X)\n",
        "        return np.mean(y_pred == y)"
      ]
    },
    {
      "cell_type": "code",
      "source": [
        "from sklearn.datasets import load_iris\n",
        "from sklearn.model_selection import train_test_split\n"
      ],
      "metadata": {
        "id": "H2dYvSG_CXuJ"
      },
      "execution_count": 4,
      "outputs": []
    },
    {
      "cell_type": "code",
      "source": [
        "\n",
        "X, y = load_iris(return_X_y=True)\n",
        "X_train, X_test, y_train, y_test = train_test_split(X, y, test_size=0.2, random_state=42)\n"
      ],
      "metadata": {
        "id": "WsNl88SFqcZi"
      },
      "execution_count": 5,
      "outputs": []
    },
    {
      "cell_type": "code",
      "source": [
        "\n",
        "clf = NaiveBayesClassifier()\n",
        "clf.fit(X_train, y_train)"
      ],
      "metadata": {
        "id": "l8x89i77qeKq"
      },
      "execution_count": 6,
      "outputs": []
    },
    {
      "cell_type": "code",
      "source": [
        "\n",
        "accuracy = clf.score(X_test, y_test)\n",
        "print(\"Accuracy:\", accuracy)"
      ],
      "metadata": {
        "colab": {
          "base_uri": "https://localhost:8080/"
        },
        "id": "5qRaI7sHqgCr",
        "outputId": "2193f09a-f56b-4ad6-cf60-c294de1be6fe"
      },
      "execution_count": 7,
      "outputs": [
        {
          "output_type": "stream",
          "name": "stdout",
          "text": [
            "Accuracy: 0.8333333333333334\n"
          ]
        }
      ]
    }
  ]
}